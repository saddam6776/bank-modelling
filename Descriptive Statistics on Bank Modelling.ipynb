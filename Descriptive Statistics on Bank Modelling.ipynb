{
 "cells": [
  {
   "cell_type": "markdown",
   "id": "489f9a15-3bb8-45ba-8058-e31d98655b5f",
   "metadata": {},
   "source": [
    "# Section 1"
   ]
  },
  {
   "cell_type": "markdown",
   "id": "c0869011-8d57-453a-91c9-f60ade1c2b94",
   "metadata": {},
   "source": [
    "**1. A statistics test was conducted for 10 learners in a class. The mean of their score is 85 and the variance of the score is zero. What can you interpret about the score obtained by all learners?**"
   ]
  },
  {
   "cell_type": "code",
   "execution_count": 6,
   "id": "83215f73-3c2b-4ea9-9be8-149bd5f07b91",
   "metadata": {},
   "outputs": [
    {
     "name": "stdout",
     "output_type": "stream",
     "text": [
      "0.0\n",
      "85.0\n"
     ]
    }
   ],
   "source": [
    "# n=10\n",
    "# mean=85\n",
    "# var=0\n",
    "learner=[85,85,85,85,85,85,85,85,85,85]\n",
    "print(np.var(learner))\n",
    "print(np.mean(learner))"
   ]
  },
  {
   "cell_type": "markdown",
   "id": "deea96b0-11a0-49b0-9434-eb73b04d3867",
   "metadata": {},
   "source": [
    "I can infer that when the variance is 0 and mean is 85 it means that no learner deviated from the mean, and all 10 learners scored exactly 85."
   ]
  },
  {
   "cell_type": "markdown",
   "id": "d3cdf25d-17b1-4681-baec-3ccb57b36533",
   "metadata": {},
   "source": [
    "**2. In a residential locality, the mean size of the house is 2224 square feet and the median value of the house is 1500 square feet. What can you interpret about the skewness in the distribution of \r\n",
    "house size? Are there bigger or smaller houses in the residential localit**y?"
   ]
  },
  {
   "cell_type": "markdown",
   "id": "c53bf86f-f9e3-48f2-86a8-dd93c5cda481",
   "metadata": {},
   "source": [
    "Since the mean is greater than the median that means it is rightly skewed, and the tails are longer on the right side (outliers pulling the mean to the right).\n",
    "So, The majority of the houses may be smaller, but a few bigger houses in the locality increase the mean."
   ]
  },
  {
   "attachments": {
    "48483fbc-e218-4302-a2ad-5b8651cf133f.png": {
     "image/png": "[encoded data removed]"
    },
    "890bbb3a-65e4-414b-add7-eaa38531b4d5.png": {
     "image/png": "[encoded data removed]"
    }
   },
   "cell_type": "markdown",
   "id": "de1703af-5bef-440a-a6b0-0e9bedfb5cd2",
   "metadata": {},
   "source": [
    "**3. The following table shows the mean and variance of the expenditure for two groups of people. You want to compare the variability in expenditure for both groups with respect to their mean. Which statistical measure would you use to evaluate the variability in expenditure? Please provide an explanation for your answer.**\n",
    "   \n",
    "![image.png](attachment:48483fbc-e218-4302-a2ad-5b8651cf133f.png)![image.png](attachment:890bbb3a-65e4-414b-add7-eaa38531b4d5.png)\r\n"
   ]
  },
  {
   "cell_type": "markdown",
   "id": "f2fdea9c-cf5b-4c6d-96c2-ae4f8f5d6086",
   "metadata": {},
   "source": [
    "Here I Would be using **Coefficient of variance(CV)**  to evaluate the variability in expenditure because CV is more appropriate when we want to compare between two different data-sets (different units) or scale which has less or more spread. Whereas standard deviation is helpful us to compare the spread  similar types of data sets (same unit) and here the mean of two groups are different.\n",
    "\n",
    "whereas there is another way **min-max normalization** to scale all the data points in the range of 0 to 1."
   ]
  },
  {
   "cell_type": "code",
   "execution_count": 73,
   "id": "b76f5ee3-f4f6-4f7f-bb1a-8d777bb89725",
   "metadata": {},
   "outputs": [
    {
     "data": {
      "text/plain": [
       "(25.0, 25.0)"
      ]
     },
     "execution_count": 73,
     "metadata": {},
     "output_type": "execute_result"
    }
   ],
   "source": [
    "# Given data for Group I and Group II\n",
    "mean_group_I = 500000\n",
    "std_dev_group_I = 125000\n",
    "\n",
    "mean_group_II = 40000\n",
    "std_dev_group_II = 10000\n",
    "\n",
    "# Calculating Coefficient of Variation (CV) for both groups\n",
    "cv_group_I = (std_dev_group_I / mean_group_I) * 100\n",
    "cv_group_II = (std_dev_group_II / mean_group_II) * 100\n",
    "\n",
    "cv_group_I, cv_group_II"
   ]
  },
  {
   "cell_type": "markdown",
   "id": "454b37d1-c079-4b1a-9f85-cd54030e0d85",
   "metadata": {},
   "source": [
    "Since both the group I and Group II (CV) is 25 .It means there is no variability between the groups."
   ]
  },
  {
   "attachments": {
    "7dac4bb5-cdb0-4ca8-9c0f-bdc94388376c.png": {
     "image/png": "[encoded data removed]"
    }
   },
   "cell_type": "markdown",
   "id": "5a9918f1-2041-42d0-a18e-d062723f11bd",
   "metadata": {},
   "source": [
    "**4. During the survey, the ages of 80 patients infected by COVID and admitted to one of the city hospitals were recorded and the collected data is represented in the less than cumulative frequency distribution table.**\n",
    "\n",
    "![image.png](attachment:7dac4bb5-cdb0-4ca8-9c0f-bdc94388376c.png)\n",
    "\n",
    "a. Which class interval has the highest frequency?\r\n",
    "\r\n",
    "b. Which age was affected the least?\r\n",
    "\r\n",
    "c. How many patients aged 45 years and above were admitted?\r\n",
    "\r\n",
    "d. Which is the modal class interval in the above dataset\r\n",
    "\r\n",
    "e. What is the median class interval of age?"
   ]
  },
  {
   "cell_type": "markdown",
   "id": "809ae44e-ff99-4543-91ae-0874adda74b6",
   "metadata": {},
   "source": [
    "**Answer:**\n",
    "\n",
    "a.35-45\n",
    "\n",
    "b.55-65\n",
    "\n",
    "c.19(14+5)\n",
    "\n",
    "d.Modal class interval = 35 - 45 years (since the highest frequency of 23 patients)\n",
    "\n",
    "e.  5 - 15: 6\n",
    "    15 - 25: 6 + 11 = 17\n",
    "    25 - 35: 17 + 21 = 38\n",
    "    35 - 45: 38 + 23 = 61\n",
    "    45 - 55: 61 + 14 = 75\n",
    "    55 - 65: 75 + 5 = 80\n",
    "    N=80\n",
    "    median Position= 80/2 = 40\n",
    "    The cumulative frequency just above 40 is 61, so the median class is 35 - 45.\n"
   ]
  },
  {
   "attachments": {
    "1a6b6671-84cd-4bed-8f63-d974b82a8214.png": {
     "image/png": "[encoded data removed]"
    }
   },
   "cell_type": "markdown",
   "id": "206d662e-a8a1-4d19-8b38-6a97dcd719cb",
   "metadata": {},
   "source": [
    "**5. Assume you are the trader and you have invested over the years, and you are worried about the average return on investment. What average method would you use to compute the average return for the data given below?**\n",
    "\n",
    "![image.png](attachment:1a6b6671-84cd-4bed-8f63-d974b82a8214.png)"
   ]
  },
  {
   "cell_type": "markdown",
   "id": "c1614ce5-b751-445d-ac57-42a5366f8790",
   "metadata": {},
   "source": [
    "In this case, as a trader calculating the average return on investment (ROI), I would want to use the geometric mean instead of the arithmetic mean.\n",
    "because Geometric mean is appropriate to use for returns over time because it accounts for compounding and volatility.As each year’s return builds on the previous year's performance and large losses (like -48% in 2017) should have more impact on the average."
   ]
  },
  {
   "cell_type": "code",
   "execution_count": 14,
   "id": "65ebdb41-0515-4355-8297-b46c6f8a2d1f",
   "metadata": {},
   "outputs": [
    {
     "name": "stdout",
     "output_type": "stream",
     "text": [
      "Geometric Mean Return: -1.43%\n"
     ]
    }
   ],
   "source": [
    "import numpy as np\n",
    "# List of returns (in decimal form)\n",
    "returns = [0.36, 0.23, -0.48, -0.30, 0.15, 0.31]\n",
    "\n",
    "# Calculate geometric mean return\n",
    "geometric_mean = np.prod([1 + r for r in returns])**(1/len(returns)) - 1\n",
    "\n",
    "# Convert back to percentage\n",
    "geometric_mean_percentage = geometric_mean * 100\n",
    "print(f\"Geometric Mean Return: {geometric_mean_percentage:.2f}%\")"
   ]
  },
  {
   "cell_type": "markdown",
   "id": "a513b8ff-c4bd-4488-93e9-bd75f1382ffe",
   "metadata": {},
   "source": [
    "**6. Suppose you have been told to measure the average height of all the males on the earth. What would be your strategy for the same? Would the average height be a parameter or a statistic? Justify your answer.**"
   ]
  },
  {
   "cell_type": "markdown",
   "id": "a347def5-8b3d-4393-b41e-2ac7cad2b98e",
   "metadata": {},
   "source": [
    "Random sampling based on different strata(like demographics, Height, Cultural background, etc) would be the strategy.\n",
    "\n",
    "A parameter is a fixed, but usually unknown, value that describes a characteristic of a population whereas a statistic is a value that describes a characteristic of a sample of the population.\n",
    "\n",
    "The true average height of all males is a parameter, as it describes a fixed characteristic of the entire population.\n",
    "\n",
    "The average height derived from the sample is a statistic, used to estimate the parameter.\n",
    "\n",
    "Since we cannot measure every individual male on Earth, we rely on a statistic (the sample mean) to infer the parameter (the population mean). The statistic will vary depending on the Random sample taken, but the parameter remains constant, even if unknown."
   ]
  },
  {
   "cell_type": "markdown",
   "id": "ba2421e6-9ea2-4282-a8e9-fef8f27ed9aa",
   "metadata": {},
   "source": [
    "**7. Calculate the z score of the following numbers:\n",
    "X = [4.5,6.2,7.3,9.1,10.4,11]**"
   ]
  },
  {
   "cell_type": "code",
   "execution_count": 8,
   "id": "3f959069-e940-4a0b-9365-e7a713bc5b72",
   "metadata": {},
   "outputs": [
    {
     "data": {
      "text/plain": [
       "(8.083333333333334,\n",
       " 2.3060909686210462,\n",
       " array([-1.55385602, -0.81667781, -0.33968015,  0.44086148,  1.00458598,\n",
       "         1.26476653]))"
      ]
     },
     "execution_count": 8,
     "metadata": {},
     "output_type": "execute_result"
    }
   ],
   "source": [
    "import numpy as np\n",
    "\n",
    "# Given data\n",
    "X = np.array([4.5, 6.2, 7.3, 9.1, 10.4, 11])\n",
    "\n",
    "#Calculate the mean\n",
    "mean_X = np.mean(X)\n",
    "\n",
    "#Calculate the standard deviation\n",
    "std_X = np.std(X) \n",
    "\n",
    "# Calculate the z-scores\n",
    "z_scores = (X - mean_X) / std_X\n",
    "\n",
    "mean_X, std_X, z_scores"
   ]
  },
  {
   "cell_type": "markdown",
   "id": "a244b800-a177-4ed1-ae2f-b7d51318ceab",
   "metadata": {},
   "source": [
    "# Section 2"
   ]
  },
  {
   "cell_type": "code",
   "execution_count": 5,
   "id": "c1818399-e538-4f0b-a14d-2390a6982d2c",
   "metadata": {},
   "outputs": [],
   "source": [
    "import pandas as pd\n",
    "import numpy as np\n",
    "import matplotlib.pyplot as mlt\n",
    "import seaborn as sns"
   ]
  },
  {
   "cell_type": "code",
   "execution_count": 6,
   "id": "0e7143aa-5af7-4e09-83cc-53090d829f24",
   "metadata": {},
   "outputs": [],
   "source": [
    "df=pd.read_csv(r\"C:\\Users\\Mir Abdul Malique\\Downloads\\Python_Graded\\Bank Personal Loan Modelling (1).csv\")"
   ]
  },
  {
   "cell_type": "code",
   "execution_count": 7,
   "id": "ed79dab1-0dbb-4655-a35c-e2ae919eec97",
   "metadata": {},
   "outputs": [
    {
     "data": {
      "text/html": [
       "<div>\n",
       "<style scoped>\n",
       "    .dataframe tbody tr th:only-of-type {\n",
       "        vertical-align: middle;\n",
       "    }\n",
       "\n",
       "    .dataframe tbody tr th {\n",
       "        vertical-align: top;\n",
       "    }\n",
       "\n",
       "    .dataframe thead th {\n",
       "        text-align: right;\n",
       "    }\n",
       "</style>\n",
       "<table border=\"1\" class=\"dataframe\">\n",
       "  <thead>\n",
       "    <tr style=\"text-align: right;\">\n",
       "      <th></th>\n",
       "      <th>ID</th>\n",
       "      <th>Age</th>\n",
       "      <th>Experience</th>\n",
       "      <th>Income</th>\n",
       "      <th>ZIP Code</th>\n",
       "      <th>Family</th>\n",
       "      <th>CCAvg</th>\n",
       "      <th>Education</th>\n",
       "      <th>Mortgage</th>\n",
       "      <th>Personal Loan</th>\n",
       "      <th>Securities Account</th>\n",
       "      <th>CD Account</th>\n",
       "      <th>Online</th>\n",
       "      <th>CreditCard</th>\n",
       "    </tr>\n",
       "  </thead>\n",
       "  <tbody>\n",
       "    <tr>\n",
       "      <th>0</th>\n",
       "      <td>1</td>\n",
       "      <td>25</td>\n",
       "      <td>1</td>\n",
       "      <td>49</td>\n",
       "      <td>91107</td>\n",
       "      <td>4</td>\n",
       "      <td>1.6</td>\n",
       "      <td>1</td>\n",
       "      <td>0</td>\n",
       "      <td>0</td>\n",
       "      <td>1</td>\n",
       "      <td>0</td>\n",
       "      <td>0</td>\n",
       "      <td>0</td>\n",
       "    </tr>\n",
       "    <tr>\n",
       "      <th>1</th>\n",
       "      <td>2</td>\n",
       "      <td>45</td>\n",
       "      <td>19</td>\n",
       "      <td>34</td>\n",
       "      <td>90089</td>\n",
       "      <td>3</td>\n",
       "      <td>1.5</td>\n",
       "      <td>1</td>\n",
       "      <td>0</td>\n",
       "      <td>0</td>\n",
       "      <td>1</td>\n",
       "      <td>0</td>\n",
       "      <td>0</td>\n",
       "      <td>0</td>\n",
       "    </tr>\n",
       "    <tr>\n",
       "      <th>2</th>\n",
       "      <td>3</td>\n",
       "      <td>39</td>\n",
       "      <td>15</td>\n",
       "      <td>11</td>\n",
       "      <td>94720</td>\n",
       "      <td>1</td>\n",
       "      <td>1.0</td>\n",
       "      <td>1</td>\n",
       "      <td>0</td>\n",
       "      <td>0</td>\n",
       "      <td>0</td>\n",
       "      <td>0</td>\n",
       "      <td>0</td>\n",
       "      <td>0</td>\n",
       "    </tr>\n",
       "    <tr>\n",
       "      <th>3</th>\n",
       "      <td>4</td>\n",
       "      <td>35</td>\n",
       "      <td>9</td>\n",
       "      <td>100</td>\n",
       "      <td>94112</td>\n",
       "      <td>1</td>\n",
       "      <td>2.7</td>\n",
       "      <td>2</td>\n",
       "      <td>0</td>\n",
       "      <td>0</td>\n",
       "      <td>0</td>\n",
       "      <td>0</td>\n",
       "      <td>0</td>\n",
       "      <td>0</td>\n",
       "    </tr>\n",
       "    <tr>\n",
       "      <th>4</th>\n",
       "      <td>5</td>\n",
       "      <td>35</td>\n",
       "      <td>8</td>\n",
       "      <td>45</td>\n",
       "      <td>91330</td>\n",
       "      <td>4</td>\n",
       "      <td>1.0</td>\n",
       "      <td>2</td>\n",
       "      <td>0</td>\n",
       "      <td>0</td>\n",
       "      <td>0</td>\n",
       "      <td>0</td>\n",
       "      <td>0</td>\n",
       "      <td>1</td>\n",
       "    </tr>\n",
       "    <tr>\n",
       "      <th>5</th>\n",
       "      <td>6</td>\n",
       "      <td>37</td>\n",
       "      <td>13</td>\n",
       "      <td>29</td>\n",
       "      <td>92121</td>\n",
       "      <td>4</td>\n",
       "      <td>0.4</td>\n",
       "      <td>2</td>\n",
       "      <td>155</td>\n",
       "      <td>0</td>\n",
       "      <td>0</td>\n",
       "      <td>0</td>\n",
       "      <td>1</td>\n",
       "      <td>0</td>\n",
       "    </tr>\n",
       "    <tr>\n",
       "      <th>6</th>\n",
       "      <td>7</td>\n",
       "      <td>53</td>\n",
       "      <td>27</td>\n",
       "      <td>72</td>\n",
       "      <td>91711</td>\n",
       "      <td>2</td>\n",
       "      <td>1.5</td>\n",
       "      <td>2</td>\n",
       "      <td>0</td>\n",
       "      <td>0</td>\n",
       "      <td>0</td>\n",
       "      <td>0</td>\n",
       "      <td>1</td>\n",
       "      <td>0</td>\n",
       "    </tr>\n",
       "    <tr>\n",
       "      <th>7</th>\n",
       "      <td>8</td>\n",
       "      <td>50</td>\n",
       "      <td>24</td>\n",
       "      <td>22</td>\n",
       "      <td>93943</td>\n",
       "      <td>1</td>\n",
       "      <td>0.3</td>\n",
       "      <td>3</td>\n",
       "      <td>0</td>\n",
       "      <td>0</td>\n",
       "      <td>0</td>\n",
       "      <td>0</td>\n",
       "      <td>0</td>\n",
       "      <td>1</td>\n",
       "    </tr>\n",
       "    <tr>\n",
       "      <th>8</th>\n",
       "      <td>9</td>\n",
       "      <td>35</td>\n",
       "      <td>10</td>\n",
       "      <td>81</td>\n",
       "      <td>90089</td>\n",
       "      <td>3</td>\n",
       "      <td>0.6</td>\n",
       "      <td>2</td>\n",
       "      <td>104</td>\n",
       "      <td>0</td>\n",
       "      <td>0</td>\n",
       "      <td>0</td>\n",
       "      <td>1</td>\n",
       "      <td>0</td>\n",
       "    </tr>\n",
       "    <tr>\n",
       "      <th>9</th>\n",
       "      <td>10</td>\n",
       "      <td>34</td>\n",
       "      <td>9</td>\n",
       "      <td>180</td>\n",
       "      <td>93023</td>\n",
       "      <td>1</td>\n",
       "      <td>8.9</td>\n",
       "      <td>3</td>\n",
       "      <td>0</td>\n",
       "      <td>1</td>\n",
       "      <td>0</td>\n",
       "      <td>0</td>\n",
       "      <td>0</td>\n",
       "      <td>0</td>\n",
       "    </tr>\n",
       "    <tr>\n",
       "      <th>10</th>\n",
       "      <td>11</td>\n",
       "      <td>65</td>\n",
       "      <td>39</td>\n",
       "      <td>105</td>\n",
       "      <td>94710</td>\n",
       "      <td>4</td>\n",
       "      <td>2.4</td>\n",
       "      <td>3</td>\n",
       "      <td>0</td>\n",
       "      <td>0</td>\n",
       "      <td>0</td>\n",
       "      <td>0</td>\n",
       "      <td>0</td>\n",
       "      <td>0</td>\n",
       "    </tr>\n",
       "    <tr>\n",
       "      <th>11</th>\n",
       "      <td>12</td>\n",
       "      <td>29</td>\n",
       "      <td>5</td>\n",
       "      <td>45</td>\n",
       "      <td>90277</td>\n",
       "      <td>3</td>\n",
       "      <td>0.1</td>\n",
       "      <td>2</td>\n",
       "      <td>0</td>\n",
       "      <td>0</td>\n",
       "      <td>0</td>\n",
       "      <td>0</td>\n",
       "      <td>1</td>\n",
       "      <td>0</td>\n",
       "    </tr>\n",
       "    <tr>\n",
       "      <th>12</th>\n",
       "      <td>13</td>\n",
       "      <td>48</td>\n",
       "      <td>23</td>\n",
       "      <td>114</td>\n",
       "      <td>93106</td>\n",
       "      <td>2</td>\n",
       "      <td>3.8</td>\n",
       "      <td>3</td>\n",
       "      <td>0</td>\n",
       "      <td>0</td>\n",
       "      <td>1</td>\n",
       "      <td>0</td>\n",
       "      <td>0</td>\n",
       "      <td>0</td>\n",
       "    </tr>\n",
       "    <tr>\n",
       "      <th>13</th>\n",
       "      <td>14</td>\n",
       "      <td>59</td>\n",
       "      <td>32</td>\n",
       "      <td>40</td>\n",
       "      <td>94920</td>\n",
       "      <td>4</td>\n",
       "      <td>2.5</td>\n",
       "      <td>2</td>\n",
       "      <td>0</td>\n",
       "      <td>0</td>\n",
       "      <td>0</td>\n",
       "      <td>0</td>\n",
       "      <td>1</td>\n",
       "      <td>0</td>\n",
       "    </tr>\n",
       "    <tr>\n",
       "      <th>14</th>\n",
       "      <td>15</td>\n",
       "      <td>67</td>\n",
       "      <td>41</td>\n",
       "      <td>112</td>\n",
       "      <td>91741</td>\n",
       "      <td>1</td>\n",
       "      <td>2.0</td>\n",
       "      <td>1</td>\n",
       "      <td>0</td>\n",
       "      <td>0</td>\n",
       "      <td>1</td>\n",
       "      <td>0</td>\n",
       "      <td>0</td>\n",
       "      <td>0</td>\n",
       "    </tr>\n",
       "    <tr>\n",
       "      <th>15</th>\n",
       "      <td>16</td>\n",
       "      <td>60</td>\n",
       "      <td>30</td>\n",
       "      <td>22</td>\n",
       "      <td>95054</td>\n",
       "      <td>1</td>\n",
       "      <td>1.5</td>\n",
       "      <td>3</td>\n",
       "      <td>0</td>\n",
       "      <td>0</td>\n",
       "      <td>0</td>\n",
       "      <td>0</td>\n",
       "      <td>1</td>\n",
       "      <td>1</td>\n",
       "    </tr>\n",
       "    <tr>\n",
       "      <th>16</th>\n",
       "      <td>17</td>\n",
       "      <td>38</td>\n",
       "      <td>14</td>\n",
       "      <td>130</td>\n",
       "      <td>95010</td>\n",
       "      <td>4</td>\n",
       "      <td>4.7</td>\n",
       "      <td>3</td>\n",
       "      <td>134</td>\n",
       "      <td>1</td>\n",
       "      <td>0</td>\n",
       "      <td>0</td>\n",
       "      <td>0</td>\n",
       "      <td>0</td>\n",
       "    </tr>\n",
       "    <tr>\n",
       "      <th>17</th>\n",
       "      <td>18</td>\n",
       "      <td>42</td>\n",
       "      <td>18</td>\n",
       "      <td>81</td>\n",
       "      <td>94305</td>\n",
       "      <td>4</td>\n",
       "      <td>2.4</td>\n",
       "      <td>1</td>\n",
       "      <td>0</td>\n",
       "      <td>0</td>\n",
       "      <td>0</td>\n",
       "      <td>0</td>\n",
       "      <td>0</td>\n",
       "      <td>0</td>\n",
       "    </tr>\n",
       "    <tr>\n",
       "      <th>18</th>\n",
       "      <td>19</td>\n",
       "      <td>46</td>\n",
       "      <td>21</td>\n",
       "      <td>193</td>\n",
       "      <td>91604</td>\n",
       "      <td>2</td>\n",
       "      <td>8.1</td>\n",
       "      <td>3</td>\n",
       "      <td>0</td>\n",
       "      <td>1</td>\n",
       "      <td>0</td>\n",
       "      <td>0</td>\n",
       "      <td>0</td>\n",
       "      <td>0</td>\n",
       "    </tr>\n",
       "    <tr>\n",
       "      <th>19</th>\n",
       "      <td>20</td>\n",
       "      <td>55</td>\n",
       "      <td>28</td>\n",
       "      <td>21</td>\n",
       "      <td>94720</td>\n",
       "      <td>1</td>\n",
       "      <td>0.5</td>\n",
       "      <td>2</td>\n",
       "      <td>0</td>\n",
       "      <td>0</td>\n",
       "      <td>1</td>\n",
       "      <td>0</td>\n",
       "      <td>0</td>\n",
       "      <td>1</td>\n",
       "    </tr>\n",
       "  </tbody>\n",
       "</table>\n",
       "</div>"
      ],
      "text/plain": [
       "    ID  Age  Experience  Income  ZIP Code  Family  CCAvg  Education  Mortgage  \\\n",
       "0    1   25           1      49     91107       4    1.6          1         0   \n",
       "1    2   45          19      34     90089       3    1.5          1         0   \n",
       "2    3   39          15      11     94720       1    1.0          1         0   \n",
       "3    4   35           9     100     94112       1    2.7          2         0   \n",
       "4    5   35           8      45     91330       4    1.0          2         0   \n",
       "5    6   37          13      29     92121       4    0.4          2       155   \n",
       "6    7   53          27      72     91711       2    1.5          2         0   \n",
       "7    8   50          24      22     93943       1    0.3          3         0   \n",
       "8    9   35          10      81     90089       3    0.6          2       104   \n",
       "9   10   34           9     180     93023       1    8.9          3         0   \n",
       "10  11   65          39     105     94710       4    2.4          3         0   \n",
       "11  12   29           5      45     90277       3    0.1          2         0   \n",
       "12  13   48          23     114     93106       2    3.8          3         0   \n",
       "13  14   59          32      40     94920       4    2.5          2         0   \n",
       "14  15   67          41     112     91741       1    2.0          1         0   \n",
       "15  16   60          30      22     95054       1    1.5          3         0   \n",
       "16  17   38          14     130     95010       4    4.7          3       134   \n",
       "17  18   42          18      81     94305       4    2.4          1         0   \n",
       "18  19   46          21     193     91604       2    8.1          3         0   \n",
       "19  20   55          28      21     94720       1    0.5          2         0   \n",
       "\n",
       "    Personal Loan  Securities Account  CD Account  Online  CreditCard  \n",
       "0               0                   1           0       0           0  \n",
       "1               0                   1           0       0           0  \n",
       "2               0                   0           0       0           0  \n",
       "3               0                   0           0       0           0  \n",
       "4               0                   0           0       0           1  \n",
       "5               0                   0           0       1           0  \n",
       "6               0                   0           0       1           0  \n",
       "7               0                   0           0       0           1  \n",
       "8               0                   0           0       1           0  \n",
       "9               1                   0           0       0           0  \n",
       "10              0                   0           0       0           0  \n",
       "11              0                   0           0       1           0  \n",
       "12              0                   1           0       0           0  \n",
       "13              0                   0           0       1           0  \n",
       "14              0                   1           0       0           0  \n",
       "15              0                   0           0       1           1  \n",
       "16              1                   0           0       0           0  \n",
       "17              0                   0           0       0           0  \n",
       "18              1                   0           0       0           0  \n",
       "19              0                   1           0       0           1  "
      ]
     },
     "execution_count": 7,
     "metadata": {},
     "output_type": "execute_result"
    }
   ],
   "source": [
    "df.head(20)"
   ]
  },
  {
   "cell_type": "markdown",
   "id": "c6b9b8e6-eae2-43ca-b2b5-08dabe87dedd",
   "metadata": {},
   "source": [
    "**8. Give us the statistical summary for all the variables in the dataset.**"
   ]
  },
  {
   "cell_type": "code",
   "execution_count": 8,
   "id": "de936560-b1c0-4b81-bc62-6e850d4e0be3",
   "metadata": {},
   "outputs": [
    {
     "data": {
      "text/html": [
       "<div>\n",
       "<style scoped>\n",
       "    .dataframe tbody tr th:only-of-type {\n",
       "        vertical-align: middle;\n",
       "    }\n",
       "\n",
       "    .dataframe tbody tr th {\n",
       "        vertical-align: top;\n",
       "    }\n",
       "\n",
       "    .dataframe thead th {\n",
       "        text-align: right;\n",
       "    }\n",
       "</style>\n",
       "<table border=\"1\" class=\"dataframe\">\n",
       "  <thead>\n",
       "    <tr style=\"text-align: right;\">\n",
       "      <th></th>\n",
       "      <th>ID</th>\n",
       "      <th>Age</th>\n",
       "      <th>Experience</th>\n",
       "      <th>Income</th>\n",
       "      <th>ZIP Code</th>\n",
       "      <th>Family</th>\n",
       "      <th>CCAvg</th>\n",
       "      <th>Education</th>\n",
       "      <th>Mortgage</th>\n",
       "      <th>Personal Loan</th>\n",
       "      <th>Securities Account</th>\n",
       "      <th>CD Account</th>\n",
       "      <th>Online</th>\n",
       "      <th>CreditCard</th>\n",
       "    </tr>\n",
       "  </thead>\n",
       "  <tbody>\n",
       "    <tr>\n",
       "      <th>count</th>\n",
       "      <td>5000.000000</td>\n",
       "      <td>5000.000000</td>\n",
       "      <td>5000.000000</td>\n",
       "      <td>5000.000000</td>\n",
       "      <td>5000.000000</td>\n",
       "      <td>5000.000000</td>\n",
       "      <td>5000.000000</td>\n",
       "      <td>5000.000000</td>\n",
       "      <td>5000.000000</td>\n",
       "      <td>5000.000000</td>\n",
       "      <td>5000.000000</td>\n",
       "      <td>5000.00000</td>\n",
       "      <td>5000.000000</td>\n",
       "      <td>5000.000000</td>\n",
       "    </tr>\n",
       "    <tr>\n",
       "      <th>mean</th>\n",
       "      <td>2500.500000</td>\n",
       "      <td>45.338400</td>\n",
       "      <td>20.104600</td>\n",
       "      <td>73.774200</td>\n",
       "      <td>93152.503000</td>\n",
       "      <td>2.396400</td>\n",
       "      <td>1.937938</td>\n",
       "      <td>1.881000</td>\n",
       "      <td>56.498800</td>\n",
       "      <td>0.096000</td>\n",
       "      <td>0.104400</td>\n",
       "      <td>0.06040</td>\n",
       "      <td>0.596800</td>\n",
       "      <td>0.294000</td>\n",
       "    </tr>\n",
       "    <tr>\n",
       "      <th>std</th>\n",
       "      <td>1443.520003</td>\n",
       "      <td>11.463166</td>\n",
       "      <td>11.467954</td>\n",
       "      <td>46.033729</td>\n",
       "      <td>2121.852197</td>\n",
       "      <td>1.147663</td>\n",
       "      <td>1.747659</td>\n",
       "      <td>0.839869</td>\n",
       "      <td>101.713802</td>\n",
       "      <td>0.294621</td>\n",
       "      <td>0.305809</td>\n",
       "      <td>0.23825</td>\n",
       "      <td>0.490589</td>\n",
       "      <td>0.455637</td>\n",
       "    </tr>\n",
       "    <tr>\n",
       "      <th>min</th>\n",
       "      <td>1.000000</td>\n",
       "      <td>23.000000</td>\n",
       "      <td>-3.000000</td>\n",
       "      <td>8.000000</td>\n",
       "      <td>9307.000000</td>\n",
       "      <td>1.000000</td>\n",
       "      <td>0.000000</td>\n",
       "      <td>1.000000</td>\n",
       "      <td>0.000000</td>\n",
       "      <td>0.000000</td>\n",
       "      <td>0.000000</td>\n",
       "      <td>0.00000</td>\n",
       "      <td>0.000000</td>\n",
       "      <td>0.000000</td>\n",
       "    </tr>\n",
       "    <tr>\n",
       "      <th>25%</th>\n",
       "      <td>1250.750000</td>\n",
       "      <td>35.000000</td>\n",
       "      <td>10.000000</td>\n",
       "      <td>39.000000</td>\n",
       "      <td>91911.000000</td>\n",
       "      <td>1.000000</td>\n",
       "      <td>0.700000</td>\n",
       "      <td>1.000000</td>\n",
       "      <td>0.000000</td>\n",
       "      <td>0.000000</td>\n",
       "      <td>0.000000</td>\n",
       "      <td>0.00000</td>\n",
       "      <td>0.000000</td>\n",
       "      <td>0.000000</td>\n",
       "    </tr>\n",
       "    <tr>\n",
       "      <th>50%</th>\n",
       "      <td>2500.500000</td>\n",
       "      <td>45.000000</td>\n",
       "      <td>20.000000</td>\n",
       "      <td>64.000000</td>\n",
       "      <td>93437.000000</td>\n",
       "      <td>2.000000</td>\n",
       "      <td>1.500000</td>\n",
       "      <td>2.000000</td>\n",
       "      <td>0.000000</td>\n",
       "      <td>0.000000</td>\n",
       "      <td>0.000000</td>\n",
       "      <td>0.00000</td>\n",
       "      <td>1.000000</td>\n",
       "      <td>0.000000</td>\n",
       "    </tr>\n",
       "    <tr>\n",
       "      <th>75%</th>\n",
       "      <td>3750.250000</td>\n",
       "      <td>55.000000</td>\n",
       "      <td>30.000000</td>\n",
       "      <td>98.000000</td>\n",
       "      <td>94608.000000</td>\n",
       "      <td>3.000000</td>\n",
       "      <td>2.500000</td>\n",
       "      <td>3.000000</td>\n",
       "      <td>101.000000</td>\n",
       "      <td>0.000000</td>\n",
       "      <td>0.000000</td>\n",
       "      <td>0.00000</td>\n",
       "      <td>1.000000</td>\n",
       "      <td>1.000000</td>\n",
       "    </tr>\n",
       "    <tr>\n",
       "      <th>max</th>\n",
       "      <td>5000.000000</td>\n",
       "      <td>67.000000</td>\n",
       "      <td>43.000000</td>\n",
       "      <td>224.000000</td>\n",
       "      <td>96651.000000</td>\n",
       "      <td>4.000000</td>\n",
       "      <td>10.000000</td>\n",
       "      <td>3.000000</td>\n",
       "      <td>635.000000</td>\n",
       "      <td>1.000000</td>\n",
       "      <td>1.000000</td>\n",
       "      <td>1.00000</td>\n",
       "      <td>1.000000</td>\n",
       "      <td>1.000000</td>\n",
       "    </tr>\n",
       "  </tbody>\n",
       "</table>\n",
       "</div>"
      ],
      "text/plain": [
       "                ID          Age   Experience       Income      ZIP Code  \\\n",
       "count  5000.000000  5000.000000  5000.000000  5000.000000   5000.000000   \n",
       "mean   2500.500000    45.338400    20.104600    73.774200  93152.503000   \n",
       "std    1443.520003    11.463166    11.467954    46.033729   2121.852197   \n",
       "min       1.000000    23.000000    -3.000000     8.000000   9307.000000   \n",
       "25%    1250.750000    35.000000    10.000000    39.000000  91911.000000   \n",
       "50%    2500.500000    45.000000    20.000000    64.000000  93437.000000   \n",
       "75%    3750.250000    55.000000    30.000000    98.000000  94608.000000   \n",
       "max    5000.000000    67.000000    43.000000   224.000000  96651.000000   \n",
       "\n",
       "            Family        CCAvg    Education     Mortgage  Personal Loan  \\\n",
       "count  5000.000000  5000.000000  5000.000000  5000.000000    5000.000000   \n",
       "mean      2.396400     1.937938     1.881000    56.498800       0.096000   \n",
       "std       1.147663     1.747659     0.839869   101.713802       0.294621   \n",
       "min       1.000000     0.000000     1.000000     0.000000       0.000000   \n",
       "25%       1.000000     0.700000     1.000000     0.000000       0.000000   \n",
       "50%       2.000000     1.500000     2.000000     0.000000       0.000000   \n",
       "75%       3.000000     2.500000     3.000000   101.000000       0.000000   \n",
       "max       4.000000    10.000000     3.000000   635.000000       1.000000   \n",
       "\n",
       "       Securities Account  CD Account       Online   CreditCard  \n",
       "count         5000.000000  5000.00000  5000.000000  5000.000000  \n",
       "mean             0.104400     0.06040     0.596800     0.294000  \n",
       "std              0.305809     0.23825     0.490589     0.455637  \n",
       "min              0.000000     0.00000     0.000000     0.000000  \n",
       "25%              0.000000     0.00000     0.000000     0.000000  \n",
       "50%              0.000000     0.00000     1.000000     0.000000  \n",
       "75%              0.000000     0.00000     1.000000     1.000000  \n",
       "max              1.000000     1.00000     1.000000     1.000000  "
      ]
     },
     "execution_count": 8,
     "metadata": {},
     "output_type": "execute_result"
    }
   ],
   "source": [
    "#statistics for all variables\n",
    "df.describe(include='all')"
   ]
  },
  {
   "cell_type": "markdown",
   "id": "4d2dc7d8-7233-4ad6-8ccc-8fd5719f8546",
   "metadata": {},
   "source": [
    "**9. Evaluate the measures of central tendency and measures of dispersion for all the quantitative variables in the dataset.**"
   ]
  },
  {
   "cell_type": "code",
   "execution_count": 82,
   "id": "0e015504-9c89-4d15-9ddc-210563c76b51",
   "metadata": {},
   "outputs": [
    {
     "name": "stdout",
     "output_type": "stream",
     "text": [
      "ID                     2500.500000\n",
      "Age                      45.338400\n",
      "Experience               20.104600\n",
      "Income                   73.774200\n",
      "ZIP Code              93152.503000\n",
      "Family                    2.396400\n",
      "CCAvg                     1.937938\n",
      "Education                 1.881000\n",
      "Mortgage                 56.498800\n",
      "Personal Loan             0.096000\n",
      "Securities Account        0.104400\n",
      "CD Account                0.060400\n",
      "Online                    0.596800\n",
      "CreditCard                0.294000\n",
      "dtype: float64\n",
      "--------------------------------------------------\n",
      "ID                     2500.5\n",
      "Age                      45.0\n",
      "Experience               20.0\n",
      "Income                   64.0\n",
      "ZIP Code              93437.0\n",
      "Family                    2.0\n",
      "CCAvg                     1.5\n",
      "Education                 2.0\n",
      "Mortgage                  0.0\n",
      "Personal Loan             0.0\n",
      "Securities Account        0.0\n",
      "CD Account                0.0\n",
      "Online                    1.0\n",
      "CreditCard                0.0\n",
      "dtype: float64\n",
      "--------------------------------------------------\n",
      "ID                    2.083750e+06\n",
      "Age                   1.314042e+02\n",
      "Experience            1.315140e+02\n",
      "Income                2.119104e+03\n",
      "ZIP Code              4.502257e+06\n",
      "Family                1.317130e+00\n",
      "CCAvg                 3.054312e+00\n",
      "Education             7.053801e-01\n",
      "Mortgage              1.034570e+04\n",
      "Personal Loan         8.680136e-02\n",
      "Securities Account    9.351934e-02\n",
      "CD Account            5.676319e-02\n",
      "Online                2.406779e-01\n",
      "CreditCard            2.076055e-01\n",
      "dtype: float64\n",
      "--------------------------------------------------\n",
      "ID                    1443.520003\n",
      "Age                     11.463166\n",
      "Experience              11.467954\n",
      "Income                  46.033729\n",
      "ZIP Code              2121.852197\n",
      "Family                   1.147663\n",
      "CCAvg                    1.747659\n",
      "Education                0.839869\n",
      "Mortgage               101.713802\n",
      "Personal Loan            0.294621\n",
      "Securities Account       0.305809\n",
      "CD Account               0.238250\n",
      "Online                   0.490589\n",
      "CreditCard               0.455637\n",
      "dtype: float64\n",
      "--------------------------------------------------\n",
      "ID                     4999.0\n",
      "Age                      44.0\n",
      "Experience               46.0\n",
      "Income                  216.0\n",
      "ZIP Code              87344.0\n",
      "Family                    3.0\n",
      "CCAvg                    10.0\n",
      "Education                 2.0\n",
      "Mortgage                635.0\n",
      "Personal Loan             1.0\n",
      "Securities Account        1.0\n",
      "CD Account                1.0\n",
      "Online                    1.0\n",
      "CreditCard                1.0\n",
      "dtype: float64\n",
      "--------------------------------------------------\n"
     ]
    }
   ],
   "source": [
    "#central Tendency(Mean,Median)\n",
    "mean_values = df.mean()\n",
    "print(mean_values)\n",
    "print(\"-\"*50)\n",
    "median_values = df.median()\n",
    "print(median_values)\n",
    "print(\"-\"*50)\n",
    "\n",
    "#Measures of Dispersion\n",
    "variance = df.var()\n",
    "print(variance)\n",
    "print(\"-\"*50)\n",
    "std_dev = df.std()\n",
    "print(std_dev)\n",
    "print(\"-\"*50)\n",
    "range_values = df.max() - df.min()\n",
    "print(range_values)\n",
    "print(\"-\"*50)"
   ]
  },
  {
   "cell_type": "markdown",
   "id": "9613988d-1754-4fe5-b873-66b9a1250cd7",
   "metadata": {},
   "source": [
    "**10. What statistical method will you use to examine the presence of a linear relationship between age and experience variables? Also, create a plot to illustrate this relationship.**"
   ]
  },
  {
   "cell_type": "code",
   "execution_count": 83,
   "id": "d77ddcc9-f7d7-41f5-93aa-8771a8049b30",
   "metadata": {},
   "outputs": [
    {
     "name": "stdout",
     "output_type": "stream",
     "text": [
      "0.9942148569683317\n"
     ]
    },
    {
     "data": {
      "image/png": "[encoded data removed]",
      "text/plain": [
       "<Figure size 640x480 with 1 Axes>"
      ]
     },
     "metadata": {},
     "output_type": "display_data"
    }
   ],
   "source": [
    "#To evaluate a linear relationship, use correlation:\n",
    "correlation = df['Age'].corr(df['Experience'])\n",
    "print(correlation)\n",
    "\n",
    "\n",
    "# To visualize it, use a scatter plot:\n",
    "import seaborn as sns\n",
    "import matplotlib.pyplot as plt\n",
    "\n",
    "sns.scatterplot(x='Age', y='Experience', data=df)\n",
    "plt.show()"
   ]
  },
  {
   "cell_type": "markdown",
   "id": "55e4c941-7565-47d5-aaab-02106c16fedf",
   "metadata": {},
   "source": [
    "**11. What is the most frequent family size observed in this dataset?**"
   ]
  },
  {
   "cell_type": "code",
   "execution_count": 84,
   "id": "90b27385-b202-4ef5-88d4-03c521a5453f",
   "metadata": {},
   "outputs": [
    {
     "name": "stdout",
     "output_type": "stream",
     "text": [
      "The most frequent family size is: 1\n"
     ]
    }
   ],
   "source": [
    "family_mode=df['Family'].mode()[0]\n",
    "print(f\"The most frequent family size is: {family_mode}\")"
   ]
  },
  {
   "cell_type": "markdown",
   "id": "71021be3-28b7-4017-af07-6d9591d12510",
   "metadata": {},
   "source": [
    "**12. What is the percentage of variation you can observe in the ‘Income’ variable?**"
   ]
  },
  {
   "cell_type": "code",
   "execution_count": 85,
   "id": "ef2f63c4-18c1-4e8b-ae94-cc500ceb3a8e",
   "metadata": {},
   "outputs": [
    {
     "name": "stdout",
     "output_type": "stream",
     "text": [
      "Percentage of variation in Income: 62.40%\n"
     ]
    }
   ],
   "source": [
    "cv_income = (df['Income'].std() / df['Income'].mean()) * 100\n",
    "print(f\"Percentage of variation in Income: {cv_income:.2f}%\")"
   ]
  },
  {
   "cell_type": "markdown",
   "id": "224f8edc-cfe7-426a-92c2-e22e805d6530",
   "metadata": {},
   "source": [
    "**13. The ‘Mortgage’ variable has a lot of zeroes. Impute with some business logical value that you feel fit for the data.**"
   ]
  },
  {
   "cell_type": "code",
   "execution_count": 13,
   "id": "74366c9f-e041-4096-b838-11d7563b243c",
   "metadata": {},
   "outputs": [
    {
     "data": {
      "text/plain": [
       "0        0\n",
       "1        0\n",
       "2        0\n",
       "3        0\n",
       "4        0\n",
       "        ..\n",
       "4995     0\n",
       "4996    85\n",
       "4997     0\n",
       "4998     0\n",
       "4999     0\n",
       "Name: Mortgage, Length: 5000, dtype: int64"
      ]
     },
     "execution_count": 13,
     "metadata": {},
     "output_type": "execute_result"
    }
   ],
   "source": [
    "#Impute zero values logically by replacing them with median in the ‘Mortgage’ Column\n",
    "# Although the better way is Using KNN regression\n",
    "df['Mortgage'] = df['Mortgage'].replace(0, df['Mortgage'].median())\n",
    "df['Mortgage']"
   ]
  },
  {
   "cell_type": "markdown",
   "id": "0c9a8616-3cf9-49dc-9d6a-d40fbd8850a6",
   "metadata": {},
   "source": [
    "**14. Plot a density curve of the CCAvg variable for the customers who possess credit cards and write an interpretation about its distribution.**"
   ]
  },
  {
   "cell_type": "code",
   "execution_count": 39,
   "id": "f9d23259-2e50-4c18-ac3a-1d3249b22199",
   "metadata": {},
   "outputs": [
    {
     "name": "stderr",
     "output_type": "stream",
     "text": [
      "C:\\Users\\Mir Abdul Malique\\anaconda3\\Lib\\site-packages\\seaborn\\_oldcore.py:1119: FutureWarning: use_inf_as_na option is deprecated and will be removed in a future version. Convert inf values to NaN before operating instead.\n",
      "  with pd.option_context('mode.use_inf_as_na', True):\n"
     ]
    },
    {
     "data": {
      "image/png": "[encoded data removed]",
      "text/plain": [
       "<Figure size 640x480 with 1 Axes>"
      ]
     },
     "metadata": {},
     "output_type": "display_data"
    }
   ],
   "source": [
    "credit_card_customers = df[df['CreditCard'] == 1]\n",
    "sns.kdeplot(credit_card_customers['CCAvg'])\n",
    "plt.show()"
   ]
  },
  {
   "cell_type": "markdown",
   "id": "501f9616-0f9f-45fe-a91f-c733392fde3d",
   "metadata": {},
   "source": [
    "From the density plot i can infer that its is heavly right skewed that means there are fewer but significant customer that are heavy spenders which shows a bump at the end increasing the mean hence these are the outliers or extermes. Although majority of customers are Average spenders."
   ]
  },
  {
   "cell_type": "markdown",
   "id": "a725f6d4-491f-4476-b498-8601c52926f9",
   "metadata": {},
   "source": [
    "**15. Do you see any outliers in the dataset? If yes, what plot you would think will be suitable to showcase to the stakeholders?**"
   ]
  },
  {
   "cell_type": "code",
   "execution_count": 40,
   "id": "4420eb1e-fbee-4ec0-bb13-4526c8f5f816",
   "metadata": {},
   "outputs": [
    {
     "data": {
      "image/png": "[encoded data removed]",
      "text/plain": [
       "<Figure size 640x480 with 1 Axes>"
      ]
     },
     "metadata": {},
     "output_type": "display_data"
    }
   ],
   "source": [
    "#boxplot to identify outliers in the data\n",
    "sns.boxplot(x=df['Income'])\n",
    "plt.show()"
   ]
  },
  {
   "cell_type": "markdown",
   "id": "f3e67711-f534-4152-868e-aa83f524a223",
   "metadata": {},
   "source": [
    "This will visually show outliers as points outside the whiskers making it rightly skewed"
   ]
  },
  {
   "cell_type": "markdown",
   "id": "bdf1a4f0-e3b0-4afb-a72a-a52d07231aec",
   "metadata": {},
   "source": [
    "**16. Give us the decile values of the variable ‘Income’ in the dataset.**"
   ]
  },
  {
   "cell_type": "code",
   "execution_count": 43,
   "id": "fc3b416a-de1a-4153-8db4-8c5f83683592",
   "metadata": {},
   "outputs": [
    {
     "name": "stdout",
     "output_type": "stream",
     "text": [
      "0.1     22.0\n",
      "0.2     33.0\n",
      "0.3     42.0\n",
      "0.4     52.0\n",
      "0.5     64.0\n",
      "0.6     78.0\n",
      "0.7     88.3\n",
      "0.8    113.0\n",
      "0.9    145.0\n",
      "Name: Income, dtype: float64\n"
     ]
    }
   ],
   "source": [
    "deciles = df['Income'].quantile(np.linspace(0.1, 0.9, 9))\n",
    "print(deciles)"
   ]
  },
  {
   "cell_type": "markdown",
   "id": "5084c587-9422-4128-8efa-531de70c33c6",
   "metadata": {},
   "source": [
    "**17. Give the IQR of all the variables which are quantitative and continuous.**"
   ]
  },
  {
   "cell_type": "code",
   "execution_count": 46,
   "id": "dc49ea54-fa73-4d05-b682-f9a1ab42380a",
   "metadata": {},
   "outputs": [
    {
     "name": "stdout",
     "output_type": "stream",
     "text": [
      "IQR for Income: 59.0\n"
     ]
    }
   ],
   "source": [
    "iqr_income = df['Income'].quantile(0.75) - df['Income'].quantile(0.25)\n",
    "print(f\"IQR for Income: {iqr_income}\")"
   ]
  },
  {
   "cell_type": "markdown",
   "id": "dd58e647-306a-4206-8a19-01c9db6729c9",
   "metadata": {},
   "source": [
    "**18. Do the higher-income holders spend more on credit cards?**"
   ]
  },
  {
   "cell_type": "code",
   "execution_count": 42,
   "id": "23923744-61b1-4d98-956e-bf0eedba5589",
   "metadata": {},
   "outputs": [
    {
     "data": {
      "image/png": "[encoded data removed]",
      "text/plain": [
       "<Figure size 640x480 with 1 Axes>"
      ]
     },
     "metadata": {},
     "output_type": "display_data"
    },
    {
     "name": "stdout",
     "output_type": "stream",
     "text": [
      "0.6459836696249653\n"
     ]
    }
   ],
   "source": [
    "sns.scatterplot(x='Income', y='CCAvg', data=df)\n",
    "plt.show()\n",
    "\n",
    "# Correlation\n",
    "correlation = df['Income'].corr(df['CCAvg'])\n",
    "print(correlation)"
   ]
  },
  {
   "cell_type": "markdown",
   "id": "35286356-40b2-46ff-aaea-c8b8185e2ae2",
   "metadata": {},
   "source": [
    "A correlation of 0.6459836696249653 between income and average credit card spending indicates a moderately strong positive relationship. This means that as income increases, there is a tendency for average credit card spending to also increase. However, there might be other factors that influence credit card spending."
   ]
  },
  {
   "cell_type": "markdown",
   "id": "ae4300f0-ed9c-474d-9722-b0df68b3c360",
   "metadata": {},
   "source": [
    "**19. How many customers use online banking? Do customers using bank internet facilities have higher incomes?**"
   ]
  },
  {
   "cell_type": "code",
   "execution_count": 67,
   "id": "211e7b31-e449-4f23-89f3-ca3a8133c418",
   "metadata": {},
   "outputs": [
    {
     "name": "stdout",
     "output_type": "stream",
     "text": [
      "No.of online_customers:2984\n",
      "online_avg_income:74.31166219839142\n",
      "offline_avg_income:72.97867063492063\n"
     ]
    }
   ],
   "source": [
    "#To count the number of customers using online banking\n",
    "online_customers = df[df['Online'] == 1]['ID'].nunique()\n",
    "print(f\"No.of online_customers:{online_customers}\")\n",
    "\n",
    "#To check if online users have higher incomes\n",
    "online_avg_income=df[df['Online'] == 1]['Income'].mean()\n",
    "print(f\"online_avg_income:{online_avg_income}\")\n",
    "offline_avg_income=df[df['Online'] == 0]['Income'].mean()\n",
    "print(f\"offline_avg_income:{offline_avg_income}\")"
   ]
  },
  {
   "cell_type": "markdown",
   "id": "ac54d62b-905a-4853-bcda-60e0c5514b43",
   "metadata": {},
   "source": [
    "online_avg_income is significantly higher than offline_avg_income, it suggests that online users tend to have higher incomes."
   ]
  },
  {
   "cell_type": "markdown",
   "id": "6eed32e5-6a18-496b-bb05-b35574b12ba4",
   "metadata": {},
   "source": [
    "**20. Using the z-score of the income variable, find out the number of observations outside the +-3σ.**"
   ]
  },
  {
   "cell_type": "code",
   "execution_count": 45,
   "id": "64ca1151-dd2d-4389-bd7d-c9c211c4e98f",
   "metadata": {},
   "outputs": [
    {
     "name": "stdout",
     "output_type": "stream",
     "text": [
      "        ID  Age  Experience  Income  ZIP Code  Family  CCAvg  Education  \\\n",
      "3896  3897   48          24     224     93940       2   6.67          1   \n",
      "4993  4994   45          21     218     91801       2   6.67          1   \n",
      "\n",
      "      Mortgage  Personal Loan  Securities Account  CD Account  Online  \\\n",
      "3896         0              0                   0           1       1   \n",
      "4993         0              0                   0           0       1   \n",
      "\n",
      "      CreditCard  Income_z  \n",
      "3896           1  3.263712  \n",
      "4993           0  3.133360  \n"
     ]
    }
   ],
   "source": [
    "#where the income is more than 3 standard deviations away from the mean.\n",
    "from scipy.stats import zscore\n",
    "\n",
    "df['Income_z'] = zscore(df['Income'])\n",
    "outliers = df[(df['Income_z'] > 3) | (df['Income_z'] < -3)]\n",
    "print(outliers)"
   ]
  },
  {
   "cell_type": "code",
   "execution_count": null,
   "id": "2d402400-bfec-4574-a095-bb2089adb8db",
   "metadata": {},
   "outputs": [],
   "source": []
  }
 ],
 "metadata": {
  "kernelspec": {
   "display_name": "Python 3 (ipykernel)",
   "language": "python",
   "name": "python3"
  },
  "language_info": {
   "codemirror_mode": {
    "name": "ipython",
    "version": 3
   },
   "file_extension": ".py",
   "mimetype": "text/x-python",
   "name": "python",
   "nbconvert_exporter": "python",
   "pygments_lexer": "ipython3",
   "version": "3.11.7"
  }
 },
 "nbformat": 4,
 "nbformat_minor": 5
}
